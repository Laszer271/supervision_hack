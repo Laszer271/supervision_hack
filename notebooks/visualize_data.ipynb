{
 "cells": [
  {
   "cell_type": "code",
   "execution_count": 2,
   "metadata": {},
   "outputs": [],
   "source": []
  },
  {
   "cell_type": "code",
   "execution_count": 5,
   "metadata": {},
   "outputs": [
    {
     "data": {
      "text/html": [
       "<div>\n",
       "<style scoped>\n",
       "    .dataframe tbody tr th:only-of-type {\n",
       "        vertical-align: middle;\n",
       "    }\n",
       "\n",
       "    .dataframe tbody tr th {\n",
       "        vertical-align: top;\n",
       "    }\n",
       "\n",
       "    .dataframe thead th {\n",
       "        text-align: right;\n",
       "    }\n",
       "</style>\n",
       "<table border=\"1\" class=\"dataframe\">\n",
       "  <thead>\n",
       "    <tr style=\"text-align: right;\">\n",
       "      <th></th>\n",
       "      <th>Name of bank</th>\n",
       "      <th>Date</th>\n",
       "      <th>Product Type</th>\n",
       "      <th>Length/Maturity</th>\n",
       "      <th>Interest Rate</th>\n",
       "      <th>Customer Type</th>\n",
       "      <th>Offer Type</th>\n",
       "      <th>Maximum Deposit Amount</th>\n",
       "      <th>Other Significant Conditions</th>\n",
       "    </tr>\n",
       "  </thead>\n",
       "  <tbody>\n",
       "    <tr>\n",
       "      <th>0</th>\n",
       "      <td>Bank A</td>\n",
       "      <td>01-11-2023</td>\n",
       "      <td>Savings</td>\n",
       "      <td>1 year</td>\n",
       "      <td>2.5</td>\n",
       "      <td>Individual</td>\n",
       "      <td>Promotional</td>\n",
       "      <td>10000</td>\n",
       "      <td>N/A</td>\n",
       "    </tr>\n",
       "    <tr>\n",
       "      <th>1</th>\n",
       "      <td>Bank B</td>\n",
       "      <td>05-12-2023</td>\n",
       "      <td>Checking</td>\n",
       "      <td>Ongoing</td>\n",
       "      <td>1.8</td>\n",
       "      <td>Corporate</td>\n",
       "      <td>Standard</td>\n",
       "      <td>5000</td>\n",
       "      <td>Minimum balance required</td>\n",
       "    </tr>\n",
       "    <tr>\n",
       "      <th>2</th>\n",
       "      <td>Bank C</td>\n",
       "      <td>10-09-2023</td>\n",
       "      <td>Term Deposit</td>\n",
       "      <td>3 years</td>\n",
       "      <td>3.2</td>\n",
       "      <td>Individual</td>\n",
       "      <td>Standard</td>\n",
       "      <td>20000</td>\n",
       "      <td>N/A</td>\n",
       "    </tr>\n",
       "    <tr>\n",
       "      <th>3</th>\n",
       "      <td>Bank D</td>\n",
       "      <td>15-07-2023</td>\n",
       "      <td>Savings</td>\n",
       "      <td>30 years</td>\n",
       "      <td>4.0</td>\n",
       "      <td>Individual</td>\n",
       "      <td>Promotional</td>\n",
       "      <td>100000</td>\n",
       "      <td>Insurance required</td>\n",
       "    </tr>\n",
       "    <tr>\n",
       "      <th>4</th>\n",
       "      <td>Bank E</td>\n",
       "      <td>20-03-2023</td>\n",
       "      <td>Savings</td>\n",
       "      <td>5 years</td>\n",
       "      <td>5.5</td>\n",
       "      <td>Corporate</td>\n",
       "      <td>Standard</td>\n",
       "      <td>30000</td>\n",
       "      <td>N/A</td>\n",
       "    </tr>\n",
       "  </tbody>\n",
       "</table>\n",
       "</div>"
      ],
      "text/plain": [
       "  Name of bank        Date  Product Type Length/Maturity  Interest Rate  \\\n",
       "0       Bank A  01-11-2023       Savings          1 year            2.5   \n",
       "1       Bank B  05-12-2023      Checking         Ongoing            1.8   \n",
       "2       Bank C  10-09-2023  Term Deposit         3 years            3.2   \n",
       "3       Bank D  15-07-2023       Savings        30 years            4.0   \n",
       "4       Bank E  20-03-2023       Savings         5 years            5.5   \n",
       "\n",
       "  Customer Type   Offer Type  Maximum Deposit Amount  \\\n",
       "0    Individual  Promotional                   10000   \n",
       "1     Corporate     Standard                    5000   \n",
       "2    Individual     Standard                   20000   \n",
       "3    Individual  Promotional                  100000   \n",
       "4     Corporate     Standard                   30000   \n",
       "\n",
       "  Other Significant Conditions  \n",
       "0                          N/A  \n",
       "1     Minimum balance required  \n",
       "2                          N/A  \n",
       "3           Insurance required  \n",
       "4                          N/A  "
      ]
     },
     "execution_count": 5,
     "metadata": {},
     "output_type": "execute_result"
    }
   ],
   "source": [
    "import streamlit as st\n",
    "import pandas as pd\n",
    "import wget\n",
    "\n",
    "# Creating an empty DataFrame with the specified columns\n",
    "data = {\n",
    "    'Name of bank': ['Bank A', 'Bank B', 'Bank C', 'Bank D', 'Bank E'],\n",
    "    'Date': ['01-11-2023', '05-12-2023', '10-09-2023', '15-07-2023', '20-03-2023'],\n",
    "    'Product Type': ['Savings', 'Checking', 'Term Deposit', 'Savings', 'Savings'],\n",
    "    'Length/Maturity': ['1 year', 'Ongoing', '3 years', '30 years', '5 years'],\n",
    "    'Interest Rate': [2.5, 1.8, 3.2, 4.0, 5.5],\n",
    "    'Customer Type': ['Individual', 'Corporate', 'Individual', 'Individual', 'Corporate'],\n",
    "    'Offer Type': ['Promotional', 'Standard', 'Standard', 'Promotional', 'Standard'],\n",
    "    'Maximum Deposit Amount': [10000, 5000, 20000, 100000, 30000],\n",
    "    'Other Significant Conditions': ['N/A', 'Minimum balance required', 'N/A', 'Insurance required', 'N/A']\n",
    "}\n",
    "df = pd.DataFrame(data)\n",
    "df"
   ]
  },
  {
   "cell_type": "code",
   "execution_count": 27,
   "metadata": {},
   "outputs": [
    {
     "name": "stdout",
     "output_type": "stream",
     "text": [
      "Overwriting app.py\n"
     ]
    }
   ],
   "source": [
    "%%writefile app.py\n",
    "import streamlit as st\n",
    "\n",
    "\n",
    "def main():\n",
    "    st.markdown(\"<h1 style='text-align: center; color: White;background-color:#e84343'>InterestGuardian</h1>\", unsafe_allow_html=True)\n",
    "    # st.markdown(\"<h3 style='text-align: center; color: Black;'>Drop in The required Inputs and we will do  the rest.</h3>\", unsafe_allow_html=True)\n",
    "    # st.markdown(\"<h4 style='text-align: center; color: Black;'>Submission for The Python Week</h4>\",\n",
    "    #             unsafe_allow_html=True)\n",
    "    st.sidebar.header(\"What is this Project about?\")\n",
    "    st.sidebar.text(\n",
    "        \"It a Web app that would help the user in determining whether they will get admission in a Graduate Program or not.\")\n",
    "    st.sidebar.header(\"What tools where used to make this?\")\n",
    "    st.sidebar.text(\"The Model was made using a dataset from Kaggle along with using Kaggle notebooks to train the model. We made use of Sci-Kit learn in order to make our Linear Regression Model.\")\n",
    "\n",
    "    # taking the cgpa by giving in the range from 0 to 10\n",
    "    cgpa = st.slider(\"Input Your CGPA\", 6.0, 10.0)\n",
    "    gre = st.slider(\"Input your GRE Score\", 290, 340)\n",
    "    # taking the TOEFL by giving in the range from 0 to 120\n",
    "    toefl = st.slider(\"Input your TOEFL Score\", 92, 120)\n",
    "    # taking the input of whether or not a person has written a research paper\n",
    "    research = st.slider(\n",
    "        \"Do You have Research Experience (0 = NO, 1 = YES)\", 0, 1)\n",
    "    # taking the rating of the university a person wishes to get in\n",
    "    uni_rating = st.slider(\n",
    "        \"Rating of the University you wish to get in on a Scale 1-5\", 1, 5)\n",
    "\n",
    "    inputs = [[cgpa, gre, toefl, research, uni_rating]]  # our inputs\n",
    "\n",
    "    # if st.button('Predict'):  # making and printing our prediction\n",
    "    #     pass\n",
    "    #     # result = model.predict(inputs)\n",
    "    #     # updated_res = result.flatten().astype(float)\n",
    "    #     # st.success(\n",
    "    #     #     'The Probability of getting admission is {}'.format(updated_res))\n",
    "\n",
    "\n",
    "if __name__ == '__main__':\n",
    "        main()"
   ]
  },
  {
   "cell_type": "code",
   "execution_count": 19,
   "metadata": {},
   "outputs": [
    {
     "ename": "OSError",
     "evalue": "Background processes not supported.",
     "output_type": "error",
     "traceback": [
      "\u001b[0;31m---------------------------------------------------------------------------\u001b[0m",
      "\u001b[0;31mOSError\u001b[0m                                   Traceback (most recent call last)",
      "\u001b[1;32m/Users/igorobrepalski/Documents/Studia/Golem/Super_vison_hack/supervision_hack/notebooks/visualize_data.ipynb Cell 4\u001b[0m line \u001b[0;36m1\n\u001b[0;32m----> <a href='vscode-notebook-cell:/Users/igorobrepalski/Documents/Studia/Golem/Super_vison_hack/supervision_hack/notebooks/visualize_data.ipynb#W3sZmlsZQ%3D%3D?line=0'>1</a>\u001b[0m get_ipython()\u001b[39m.\u001b[39;49msystem(\u001b[39m'\u001b[39;49m\u001b[39mstreamlit run app.py &>/content/logs.txt &\u001b[39;49m\u001b[39m'\u001b[39;49m)\n",
      "File \u001b[0;32m/opt/homebrew/Caskroom/miniforge/base/envs/interestguardian/lib/python3.9/site-packages/ipykernel/zmqshell.py:642\u001b[0m, in \u001b[0;36mZMQInteractiveShell.system_piped\u001b[0;34m(self, cmd)\u001b[0m\n\u001b[1;32m    635\u001b[0m \u001b[39mif\u001b[39;00m cmd\u001b[39m.\u001b[39mrstrip()\u001b[39m.\u001b[39mendswith(\u001b[39m\"\u001b[39m\u001b[39m&\u001b[39m\u001b[39m\"\u001b[39m):\n\u001b[1;32m    636\u001b[0m     \u001b[39m# this is *far* from a rigorous test\u001b[39;00m\n\u001b[1;32m    637\u001b[0m     \u001b[39m# We do not support backgrounding processes because we either use\u001b[39;00m\n\u001b[1;32m    638\u001b[0m     \u001b[39m# pexpect or pipes to read from.  Users can always just call\u001b[39;00m\n\u001b[1;32m    639\u001b[0m     \u001b[39m# os.system() or use ip.system=ip.system_raw\u001b[39;00m\n\u001b[1;32m    640\u001b[0m     \u001b[39m# if they really want a background process.\u001b[39;00m\n\u001b[1;32m    641\u001b[0m     msg \u001b[39m=\u001b[39m \u001b[39m\"\u001b[39m\u001b[39mBackground processes not supported.\u001b[39m\u001b[39m\"\u001b[39m\n\u001b[0;32m--> 642\u001b[0m     \u001b[39mraise\u001b[39;00m \u001b[39mOSError\u001b[39;00m(msg)\n\u001b[1;32m    644\u001b[0m \u001b[39m# we explicitly do NOT return the subprocess status code, because\u001b[39;00m\n\u001b[1;32m    645\u001b[0m \u001b[39m# a non-None value would trigger :func:`sys.displayhook` calls.\u001b[39;00m\n\u001b[1;32m    646\u001b[0m \u001b[39m# Instead, we store the exit_code in user_ns.\u001b[39;00m\n\u001b[1;32m    647\u001b[0m \u001b[39m# Also, protect system call from UNC paths on Windows here too\u001b[39;00m\n\u001b[1;32m    648\u001b[0m \u001b[39m# as is done in InteractiveShell.system_raw\u001b[39;00m\n\u001b[1;32m    649\u001b[0m \u001b[39mif\u001b[39;00m sys\u001b[39m.\u001b[39mplatform \u001b[39m==\u001b[39m \u001b[39m\"\u001b[39m\u001b[39mwin32\u001b[39m\u001b[39m\"\u001b[39m:\n",
      "\u001b[0;31mOSError\u001b[0m: Background processes not supported."
     ]
    }
   ],
   "source": [
    "!streamlit run app.py &>/content/logs.txt &"
   ]
  },
  {
   "cell_type": "code",
   "execution_count": 14,
   "metadata": {},
   "outputs": [
    {
     "ename": "SyntaxError",
     "evalue": "invalid syntax (4107269645.py, line 1)",
     "output_type": "error",
     "traceback": [
      "\u001b[0;36m  Cell \u001b[0;32mIn[14], line 1\u001b[0;36m\u001b[0m\n\u001b[0;31m    st run my_app.py\u001b[0m\n\u001b[0m       ^\u001b[0m\n\u001b[0;31mSyntaxError\u001b[0m\u001b[0;31m:\u001b[0m invalid syntax\n"
     ]
    }
   ],
   "source": [
    "st run my_app.py"
   ]
  },
  {
   "cell_type": "code",
   "execution_count": null,
   "metadata": {},
   "outputs": [],
   "source": [
    "streamlit run my_app.py"
   ]
  }
 ],
 "metadata": {
  "kernelspec": {
   "display_name": "interestguardian",
   "language": "python",
   "name": "python3"
  },
  "language_info": {
   "codemirror_mode": {
    "name": "ipython",
    "version": 3
   },
   "file_extension": ".py",
   "mimetype": "text/x-python",
   "name": "python",
   "nbconvert_exporter": "python",
   "pygments_lexer": "ipython3",
   "version": "3.9.18"
  }
 },
 "nbformat": 4,
 "nbformat_minor": 2
}
