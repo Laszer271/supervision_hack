{
 "cells": [
  {
   "cell_type": "code",
   "execution_count": 2,
   "metadata": {},
   "outputs": [],
   "source": []
  },
  {
   "cell_type": "code",
   "execution_count": 1,
   "metadata": {},
   "outputs": [
    {
     "data": {
      "text/html": [
       "<div>\n",
       "<style scoped>\n",
       "    .dataframe tbody tr th:only-of-type {\n",
       "        vertical-align: middle;\n",
       "    }\n",
       "\n",
       "    .dataframe tbody tr th {\n",
       "        vertical-align: top;\n",
       "    }\n",
       "\n",
       "    .dataframe thead th {\n",
       "        text-align: right;\n",
       "    }\n",
       "</style>\n",
       "<table border=\"1\" class=\"dataframe\">\n",
       "  <thead>\n",
       "    <tr style=\"text-align: right;\">\n",
       "      <th></th>\n",
       "      <th>Name of bank</th>\n",
       "      <th>Date</th>\n",
       "      <th>Product Type</th>\n",
       "      <th>Length/Maturity</th>\n",
       "      <th>Interest Rate</th>\n",
       "      <th>Customer Type</th>\n",
       "      <th>Offer Type</th>\n",
       "      <th>Maximum Deposit Amount</th>\n",
       "      <th>Other Significant Conditions</th>\n",
       "    </tr>\n",
       "  </thead>\n",
       "  <tbody>\n",
       "    <tr>\n",
       "      <th>0</th>\n",
       "      <td>Bank A</td>\n",
       "      <td>01-11-2023</td>\n",
       "      <td>Savings</td>\n",
       "      <td>1 year</td>\n",
       "      <td>2.5</td>\n",
       "      <td>Individual</td>\n",
       "      <td>Promotional</td>\n",
       "      <td>10000</td>\n",
       "      <td>N/A</td>\n",
       "    </tr>\n",
       "    <tr>\n",
       "      <th>1</th>\n",
       "      <td>Bank B</td>\n",
       "      <td>05-12-2023</td>\n",
       "      <td>Checking</td>\n",
       "      <td>Ongoing</td>\n",
       "      <td>1.8</td>\n",
       "      <td>Corporate</td>\n",
       "      <td>Standard</td>\n",
       "      <td>5000</td>\n",
       "      <td>Minimum balance required</td>\n",
       "    </tr>\n",
       "    <tr>\n",
       "      <th>2</th>\n",
       "      <td>Bank C</td>\n",
       "      <td>10-09-2023</td>\n",
       "      <td>Term Deposit</td>\n",
       "      <td>3 years</td>\n",
       "      <td>3.2</td>\n",
       "      <td>Individual</td>\n",
       "      <td>Standard</td>\n",
       "      <td>20000</td>\n",
       "      <td>N/A</td>\n",
       "    </tr>\n",
       "    <tr>\n",
       "      <th>3</th>\n",
       "      <td>Bank D</td>\n",
       "      <td>15-07-2023</td>\n",
       "      <td>Savings</td>\n",
       "      <td>30 years</td>\n",
       "      <td>4.0</td>\n",
       "      <td>Individual</td>\n",
       "      <td>Promotional</td>\n",
       "      <td>100000</td>\n",
       "      <td>Insurance required</td>\n",
       "    </tr>\n",
       "    <tr>\n",
       "      <th>4</th>\n",
       "      <td>Bank E</td>\n",
       "      <td>20-03-2023</td>\n",
       "      <td>Savings</td>\n",
       "      <td>5 years</td>\n",
       "      <td>5.5</td>\n",
       "      <td>Corporate</td>\n",
       "      <td>Standard</td>\n",
       "      <td>30000</td>\n",
       "      <td>N/A</td>\n",
       "    </tr>\n",
       "  </tbody>\n",
       "</table>\n",
       "</div>"
      ],
      "text/plain": [
       "  Name of bank        Date  Product Type Length/Maturity  Interest Rate  \\\n",
       "0       Bank A  01-11-2023       Savings          1 year            2.5   \n",
       "1       Bank B  05-12-2023      Checking         Ongoing            1.8   \n",
       "2       Bank C  10-09-2023  Term Deposit         3 years            3.2   \n",
       "3       Bank D  15-07-2023       Savings        30 years            4.0   \n",
       "4       Bank E  20-03-2023       Savings         5 years            5.5   \n",
       "\n",
       "  Customer Type   Offer Type  Maximum Deposit Amount  \\\n",
       "0    Individual  Promotional                   10000   \n",
       "1     Corporate     Standard                    5000   \n",
       "2    Individual     Standard                   20000   \n",
       "3    Individual  Promotional                  100000   \n",
       "4     Corporate     Standard                   30000   \n",
       "\n",
       "  Other Significant Conditions  \n",
       "0                          N/A  \n",
       "1     Minimum balance required  \n",
       "2                          N/A  \n",
       "3           Insurance required  \n",
       "4                          N/A  "
      ]
     },
     "execution_count": 1,
     "metadata": {},
     "output_type": "execute_result"
    }
   ],
   "source": [
    "import streamlit as st\n",
    "import pandas as pd\n",
    "import wget\n",
    "\n",
    "# Creating an empty DataFrame with the specified columns\n",
    "data = {\n",
    "    'Name of bank': ['Bank A', 'Bank B', 'Bank C', 'Bank D', 'Bank E'],\n",
    "    'Date': ['01-11-2023', '05-12-2023', '10-09-2023', '15-07-2023', '20-03-2023'],\n",
    "    'Product Type': ['Savings', 'Checking', 'Term Deposit', 'Savings', 'Savings'],\n",
    "    'Length/Maturity': ['1 year', 'Ongoing', '3 years', '30 years', '5 years'],\n",
    "    'Interest Rate': [2.5, 1.8, 3.2, 4.0, 5.5],\n",
    "    'Customer Type': ['Individual', 'Corporate', 'Individual', 'Individual', 'Corporate'],\n",
    "    'Offer Type': ['Promotional', 'Standard', 'Standard', 'Promotional', 'Standard'],\n",
    "    'Maximum Deposit Amount': [10000, 5000, 20000, 100000, 30000],\n",
    "    'Other Significant Conditions': ['N/A', 'Minimum balance required', 'N/A', 'Insurance required', 'N/A']\n",
    "}\n",
    "df = pd.DataFrame(data)\n",
    "df"
   ]
  },
  {
   "cell_type": "code",
   "execution_count": 37,
   "metadata": {},
   "outputs": [
    {
     "data": {
      "text/plain": [
       "['Bank A', 'Bank B', 'Bank C', 'Bank D', 'Bank E']"
      ]
     },
     "execution_count": 37,
     "metadata": {},
     "output_type": "execute_result"
    }
   ],
   "source": [
    "df['Name of bank'].to_list()"
   ]
  },
  {
   "cell_type": "code",
   "execution_count": 45,
   "metadata": {},
   "outputs": [
    {
     "name": "stdout",
     "output_type": "stream",
     "text": [
      "Overwriting app.py\n"
     ]
    }
   ],
   "source": [
    "%%writefile app.py\n",
    "import streamlit as st\n",
    "import pandas as pd\n",
    "import plotly.express as px\n",
    "data = {\n",
    "    'Name of bank': ['Bank A', 'Bank B', 'Bank C', 'Bank D', 'Bank E'],\n",
    "    'Date': ['01-11-2023', '05-12-2023', '10-09-2023', '15-07-2023', '20-03-2023'],\n",
    "    'Product Type': ['Savings', 'Checking', 'Term Deposit', 'Savings', 'Savings'],\n",
    "    'Length/Maturity': ['1 year', 'Ongoing', '3 years', '30 years', '5 years'],\n",
    "    'Interest Rate': [2.5, 1.8, 3.2, 4.0, 5.5],\n",
    "    'Customer Type': ['Individual', 'Corporate', 'Individual', 'Individual', 'Corporate'],\n",
    "    'Offer Type': ['Promotional', 'Standard', 'Standard', 'Promotional', 'Standard'],\n",
    "    'Maximum Deposit Amount': [10000, 50000, 20000, 100000, 30000],\n",
    "    'Other Significant Conditions': ['N/A', 'Minimum balance required', 'N/A', 'Insurance required', 'N/A']\n",
    "}\n",
    "df = pd.DataFrame(data)\n",
    "\n",
    "\n",
    "def main():\n",
    "    \n",
    "    st.markdown(\"<h1 style='text-align: center; color: White;background-color:#e84343'>InterestGuardian</h1>\", unsafe_allow_html=True)\n",
    "    # st.markdown(\"<h3 style='text-align: center; color: Black;'>Drop in The required Inputs and we will do  the rest.</h3>\", unsafe_allow_html=True)\n",
    "    # st.markdown(\"<h4 style='text-align: center; color: Black;'>Submission for The Python Week</h4>\",\n",
    "    #             unsafe_allow_html=True)\n",
    "    st.header(\"What is this Project about?\")\n",
    "    st.text(\"It a Web app that would help the Supervisors in determining\\n whether bank is an outcast or not.\")\n",
    "    st.header(\"What tools where used to make this?\")\n",
    "    st.text(\"We used web scraping, AI and other cool stuff.\")\n",
    "    st.sidebar.header(\"FILTERS\")\n",
    "\n",
    "    # taking the cgpa by giving in the range from 0 to 10\n",
    "    selected_banks = st.sidebar.multiselect(\"Filter by banks\",df['Name of bank'].to_list(), df['Name of bank'].to_list())\n",
    "    selected_interest_threshold = st.sidebar.slider(\"Input your interest threshold\", 0, 20)\n",
    "    # taking the TOEFL by giving in the range from 0 to 120\n",
    "    selected_deposit_threshold = st.sidebar.slider(\"Input your maximum deposit value\", 10000, 100000)\n",
    "    # taking the input of whether or not a person has written a research paper\n",
    "\n",
    "    c = dict(zip(df[\"Name of bank\"].unique(), px.colors.qualitative.G10))\n",
    "\n",
    "\n",
    "    filtered_df = df[df['Name of bank'].isin(selected_banks) & (df['Interest Rate'] >= selected_interest_threshold) & (df['Maximum Deposit Amount'] >= selected_deposit_threshold) & (df['Customer Type'] == 'Individual')]\n",
    "    fig = px.bar(filtered_df, x=\"Interest Rate\", y=\"Maximum Deposit Amount\", color=\"Name of bank\",color_discrete_map=c, title = 'Indiviudal clients')\n",
    "\n",
    "    filtered_df = df[df['Name of bank'].isin(selected_banks) & (df['Interest Rate'] >= selected_interest_threshold) & (df['Maximum Deposit Amount'] >= selected_deposit_threshold) & (df['Customer Type'] == 'Corporate')]\n",
    "    fig_2 = px.bar(filtered_df, x=\"Interest Rate\", y=\"Maximum Deposit Amount\", color=\"Name of bank\",color_discrete_map=c, title = 'Corporate clients')\n",
    " \n",
    "\n",
    "    # Plot!\n",
    "    st.plotly_chart(fig, use_container_width=True)\n",
    "    st.plotly_chart(fig_2, use_container_width=True)\n",
    "\n",
    "\n",
    "        # if st.button('Predict'):  # making and printing our prediction\n",
    "        #     pass\n",
    "        #     # result = model.predict(inputs)\n",
    "        #     # updated_res = result.flatten().astype(float)\n",
    "        #     # st.success(\n",
    "        #     #     'The Probability of getting admission is {}'.format(updated_res))\n",
    "\n",
    "\n",
    "if __name__ == '__main__':\n",
    "        main()"
   ]
  },
  {
   "cell_type": "code",
   "execution_count": 10,
   "metadata": {},
   "outputs": [
    {
     "name": "stdout",
     "output_type": "stream",
     "text": [
      "  Name of bank        Date  Product Type Length/Maturity  Interest Rate  \\\n",
      "0       Bank A  01-11-2023       Savings          1 year            2.5   \n",
      "1       Bank B  05-12-2023      Checking         Ongoing            1.8   \n",
      "2       Bank C  10-09-2023  Term Deposit         3 years            3.2   \n",
      "3       Bank D  15-07-2023       Savings        30 years            4.0   \n",
      "4       Bank E  20-03-2023       Savings         5 years            5.5   \n",
      "\n",
      "  Customer Type   Offer Type  Maximum Deposit Amount  \\\n",
      "0    Individual  Promotional                   10000   \n",
      "1     Corporate     Standard                    5000   \n",
      "2    Individual     Standard                   20000   \n",
      "3    Individual  Promotional                  100000   \n",
      "4     Corporate     Standard                   30000   \n",
      "\n",
      "  Other Significant Conditions  \n",
      "0                          N/A  \n",
      "1     Minimum balance required  \n",
      "2                          N/A  \n",
      "3           Insurance required  \n",
      "4                          N/A  \n"
     ]
    }
   ],
   "source": [
    "print(df)"
   ]
  },
  {
   "cell_type": "code",
   "execution_count": 14,
   "metadata": {},
   "outputs": [
    {
     "ename": "SyntaxError",
     "evalue": "invalid syntax (4107269645.py, line 1)",
     "output_type": "error",
     "traceback": [
      "\u001b[0;36m  Cell \u001b[0;32mIn[14], line 1\u001b[0;36m\u001b[0m\n\u001b[0;31m    st run my_app.py\u001b[0m\n\u001b[0m       ^\u001b[0m\n\u001b[0;31mSyntaxError\u001b[0m\u001b[0;31m:\u001b[0m invalid syntax\n"
     ]
    }
   ],
   "source": [
    "st run my_app.py"
   ]
  },
  {
   "cell_type": "code",
   "execution_count": 44,
   "metadata": {},
   "outputs": [
    {
     "ename": "ModuleNotFoundError",
     "evalue": "No module named 'plotly'",
     "output_type": "error",
     "traceback": [
      "\u001b[0;31m---------------------------------------------------------------------------\u001b[0m",
      "\u001b[0;31mModuleNotFoundError\u001b[0m                       Traceback (most recent call last)",
      "\u001b[1;32m/Users/igorobrepalski/Documents/Studia/Golem/Super_vison_hack/supervision_hack/notebooks/visualize_data.ipynb Cell 7\u001b[0m line \u001b[0;36m1\n\u001b[0;32m----> <a href='vscode-notebook-cell:/Users/igorobrepalski/Documents/Studia/Golem/Super_vison_hack/supervision_hack/notebooks/visualize_data.ipynb#X16sZmlsZQ%3D%3D?line=0'>1</a>\u001b[0m \u001b[39mimport\u001b[39;00m \u001b[39mplotly\u001b[39;00m\u001b[39m.\u001b[39;00m\u001b[39mexpress\u001b[39;00m \u001b[39mas\u001b[39;00m \u001b[39mpx\u001b[39;00m\n",
      "\u001b[0;31mModuleNotFoundError\u001b[0m: No module named 'plotly'"
     ]
    }
   ],
   "source": [
    "import plotly.express as px"
   ]
  },
  {
   "cell_type": "code",
   "execution_count": 45,
   "metadata": {},
   "outputs": [
    {
     "name": "stdout",
     "output_type": "stream",
     "text": [
      "Collecting plotly\n",
      "  Downloading plotly-5.18.0-py3-none-any.whl.metadata (7.0 kB)\n",
      "Requirement already satisfied: tenacity>=6.2.0 in /opt/homebrew/Caskroom/miniforge/base/envs/interestguardian/lib/python3.9/site-packages (from plotly) (8.2.3)\n",
      "Requirement already satisfied: packaging in /opt/homebrew/Caskroom/miniforge/base/envs/interestguardian/lib/python3.9/site-packages (from plotly) (23.2)\n",
      "Downloading plotly-5.18.0-py3-none-any.whl (15.6 MB)\n",
      "\u001b[2K   \u001b[90m━━━━━━━━━━━━━━━━━━━━━━━━━━━━━━━━━━━━━━━━\u001b[0m \u001b[32m15.6/15.6 MB\u001b[0m \u001b[31m6.2 MB/s\u001b[0m eta \u001b[36m0:00:00\u001b[0m00:01\u001b[0m00:01\u001b[0m\n",
      "\u001b[?25hInstalling collected packages: plotly\n",
      "Successfully installed plotly-5.18.0\n",
      "Note: you may need to restart the kernel to use updated packages.\n"
     ]
    }
   ],
   "source": [
    "pip install plotly"
   ]
  },
  {
   "cell_type": "code",
   "execution_count": null,
   "metadata": {},
   "outputs": [],
   "source": []
  }
 ],
 "metadata": {
  "kernelspec": {
   "display_name": "interestguardian",
   "language": "python",
   "name": "python3"
  },
  "language_info": {
   "codemirror_mode": {
    "name": "ipython",
    "version": 3
   },
   "file_extension": ".py",
   "mimetype": "text/x-python",
   "name": "python",
   "nbconvert_exporter": "python",
   "pygments_lexer": "ipython3",
   "version": "3.9.18"
  }
 },
 "nbformat": 4,
 "nbformat_minor": 2
}
