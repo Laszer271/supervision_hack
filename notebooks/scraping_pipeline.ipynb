{
 "cells": [
  {
   "cell_type": "code",
   "execution_count": 1,
   "metadata": {},
   "outputs": [],
   "source": [
    "import sys\n",
    "sys.path.append('../')"
   ]
  },
  {
   "cell_type": "code",
   "execution_count": 2,
   "metadata": {},
   "outputs": [
    {
     "name": "stderr",
     "output_type": "stream",
     "text": [
      "/home/laszer/.pyenv/versions/3.9.6/envs/supervision_hack/lib/python3.9/site-packages/tqdm/auto.py:21: TqdmWarning: IProgress not found. Please update jupyter and ipywidgets. See https://ipywidgets.readthedocs.io/en/stable/user_install.html\n",
      "  from .autonotebook import tqdm as notebook_tqdm\n"
     ]
    }
   ],
   "source": [
    "from scraping.pdf_handling import pdf_to_text\n",
    "from transformers import pipeline, AutoTokenizer, AutoModelForQuestionAnswering\n",
    "from scraping.text_processing import get_raw_content, remove_non_ascii, split_on_newline, TextChunker\n",
    "from scraping.semantic_search import SemanticSearch\n",
    "\n",
    "import pandas as pd"
   ]
  },
  {
   "cell_type": "code",
   "execution_count": 3,
   "metadata": {},
   "outputs": [
    {
     "data": {
      "text/html": [
       "<div>\n",
       "<style scoped>\n",
       "    .dataframe tbody tr th:only-of-type {\n",
       "        vertical-align: middle;\n",
       "    }\n",
       "\n",
       "    .dataframe tbody tr th {\n",
       "        vertical-align: top;\n",
       "    }\n",
       "\n",
       "    .dataframe thead th {\n",
       "        text-align: right;\n",
       "    }\n",
       "</style>\n",
       "<table border=\"1\" class=\"dataframe\">\n",
       "  <thead>\n",
       "    <tr style=\"text-align: right;\">\n",
       "      <th></th>\n",
       "      <th>Name</th>\n",
       "      <th>Individual</th>\n",
       "      <th>Corporation</th>\n",
       "    </tr>\n",
       "  </thead>\n",
       "  <tbody>\n",
       "    <tr>\n",
       "      <th>1.0</th>\n",
       "      <td>Powszechna Kasa Oszczędności Bank Polski SA</td>\n",
       "      <td>https://www.pkobp.pl/oplaty-i-oprocentowanie/o...</td>\n",
       "      <td>https://www.pkobp.pl/oplaty-i-oprocentowanie/o...</td>\n",
       "    </tr>\n",
       "    <tr>\n",
       "      <th>2.0</th>\n",
       "      <td>Bank Handlowy w Warszawie SA</td>\n",
       "      <td>https://www.citibank.pl/dokumenty/\\n[zakładki:...</td>\n",
       "      <td>NaN</td>\n",
       "    </tr>\n",
       "    <tr>\n",
       "      <th>3.0</th>\n",
       "      <td>ING Bank Śląski SA</td>\n",
       "      <td>https://www.ing.pl/indywidualni/tabele-i-regul...</td>\n",
       "      <td>https://www.ing.pl/male-firmy/tabele-i-regulam...</td>\n",
       "    </tr>\n",
       "  </tbody>\n",
       "</table>\n",
       "</div>"
      ],
      "text/plain": [
       "                                            Name  \\\n",
       "1.0  Powszechna Kasa Oszczędności Bank Polski SA   \n",
       "2.0                 Bank Handlowy w Warszawie SA   \n",
       "3.0                           ING Bank Śląski SA   \n",
       "\n",
       "                                            Individual  \\\n",
       "1.0  https://www.pkobp.pl/oplaty-i-oprocentowanie/o...   \n",
       "2.0  https://www.citibank.pl/dokumenty/\\n[zakładki:...   \n",
       "3.0  https://www.ing.pl/indywidualni/tabele-i-regul...   \n",
       "\n",
       "                                           Corporation  \n",
       "1.0  https://www.pkobp.pl/oplaty-i-oprocentowanie/o...  \n",
       "2.0                                                NaN  \n",
       "3.0  https://www.ing.pl/male-firmy/tabele-i-regulam...  "
      ]
     },
     "execution_count": 3,
     "metadata": {},
     "output_type": "execute_result"
    }
   ],
   "source": [
    "df_urls = pd.read_excel('../Bank_list.xlsx', index_col=0)\n",
    "df_urls.head(3)"
   ]
  },
  {
   "cell_type": "code",
   "execution_count": 4,
   "metadata": {},
   "outputs": [],
   "source": [
    "bank_name = 'Bank Pocztowy SA'\n",
    "client_type = 'Individual'"
   ]
  },
  {
   "cell_type": "code",
   "execution_count": 5,
   "metadata": {},
   "outputs": [],
   "source": [
    "# urls"
   ]
  },
  {
   "cell_type": "code",
   "execution_count": 6,
   "metadata": {},
   "outputs": [
    {
     "name": "stdout",
     "output_type": "stream",
     "text": [
      "512\n"
     ]
    },
    {
     "name": "stderr",
     "output_type": "stream",
     "text": [
      "Some weights of the model checkpoint at henryk/bert-base-multilingual-cased-finetuned-polish-squad2 were not used when initializing BertForQuestionAnswering: ['bert.pooler.dense.bias', 'bert.pooler.dense.weight']\n",
      "- This IS expected if you are initializing BertForQuestionAnswering from the checkpoint of a model trained on another task or with another architecture (e.g. initializing a BertForSequenceClassification model from a BertForPreTraining model).\n",
      "- This IS NOT expected if you are initializing BertForQuestionAnswering from the checkpoint of a model that you expect to be exactly identical (initializing a BertForSequenceClassification model from a BertForSequenceClassification model).\n"
     ]
    }
   ],
   "source": [
    "model_name = \"henryk/bert-base-multilingual-cased-finetuned-polish-squad2\"\n",
    "tokenizer = AutoTokenizer.from_pretrained(model_name)\n",
    "print(tokenizer.model_max_length)\n",
    "\n",
    "pipe = pipeline(\"question-answering\", model=model_name)\n",
    "\n",
    "chunker = TextChunker(tokenizer=tokenizer, max_len=400, stride_len=100)"
   ]
  },
  {
   "cell_type": "code",
   "execution_count": 7,
   "metadata": {},
   "outputs": [
    {
     "data": {
      "text/plain": [
       "4"
      ]
     },
     "execution_count": 7,
     "metadata": {},
     "output_type": "execute_result"
    }
   ],
   "source": [
    "data = pdf_to_text(f'../bank_data/{client_type}/{bank_name}')\n",
    "len(data)"
   ]
  },
  {
   "cell_type": "code",
   "execution_count": 8,
   "metadata": {},
   "outputs": [
    {
     "name": "stdout",
     "output_type": "stream",
     "text": [
      "---\n",
      "40489\n",
      "40368\n"
     ]
    }
   ],
   "source": [
    "urls = df_urls.loc[df_urls['Name'] == bank_name, 'Individual'].dropna().tolist()\n",
    "for url in urls:\n",
    "    print('---')\n",
    "    soup = get_raw_content(url)\n",
    "    print(len(soup))\n",
    "    soup = remove_non_ascii(soup)\n",
    "    print(len(soup))\n",
    "\n",
    "    splitted = split_on_newline(soup)\n",
    "    data[url] = splitted\n"
   ]
  },
  {
   "cell_type": "code",
   "execution_count": 9,
   "metadata": {},
   "outputs": [
    {
     "name": "stderr",
     "output_type": "stream",
     "text": [
      "Token indices sequence length is longer than the specified maximum sequence length for this model (745 > 512). Running this sequence through the model will result in indexing errors\n"
     ]
    },
    {
     "name": "stdout",
     "output_type": "stream",
     "text": [
      "---\n",
      "3539\n",
      "3525\n",
      "10\n",
      "---\n",
      "3599\n",
      "3598\n",
      "8\n",
      "---\n",
      "3281\n",
      "3274\n",
      "6\n",
      "---\n",
      "5498\n",
      "5490\n",
      "17\n",
      "---\n",
      "271\n",
      "1694\n",
      "1\n"
     ]
    }
   ],
   "source": [
    "all_chunks = []\n",
    "\n",
    "for file, content in data.items(): \n",
    "    print('---')\n",
    "    print(len(content))\n",
    "    content = remove_non_ascii(content)\n",
    "    print(len(content))\n",
    "\n",
    "    splitted = split_on_newline(content)\n",
    "\n",
    "    chunks = chunker.split_text(splitted)\n",
    "    all_chunks.extend(chunks)\n",
    "    print(len(chunks))"
   ]
  },
  {
   "cell_type": "code",
   "execution_count": 12,
   "metadata": {},
   "outputs": [
    {
     "data": {
      "text/plain": [
       "42"
      ]
     },
     "execution_count": 12,
     "metadata": {},
     "output_type": "execute_result"
    }
   ],
   "source": [
    "len(all_chunks)"
   ]
  },
  {
   "cell_type": "code",
   "execution_count": 10,
   "metadata": {},
   "outputs": [
    {
     "name": "stdout",
     "output_type": "stream",
     "text": [
      "5\n"
     ]
    }
   ],
   "source": [
    "semantic_search = SemanticSearch()\n",
    "\n",
    "semantic_search.vectorize_text(strings=all_chunks)\n",
    "result = semantic_search.search(\"wysokość oprocentowania promocyjnego na lokacie w %\", k=5)\n",
    "print(len(result))\n",
    "\n",
    "best_contexts = [r[0].page_content for r in result]\n",
    "\n",
    "question = \"Jaka jest wysokość oprocentowania promocyjnego na lokacie?\"\n",
    "# question = 'Do kogo jest skierowana oferta?'\n",
    "\n",
    "preds = []\n",
    "for context in best_contexts:\n",
    "    # generate 3 answers to the question\n",
    "    pred = pipe(question=question, context=context, do_sample=False, top_k=3)\n",
    "\n",
    "    pred = [p['answer'] for p in pred]\n",
    "    preds.append(pred)"
   ]
  },
  {
   "cell_type": "code",
   "execution_count": 11,
   "metadata": {},
   "outputs": [
    {
     "data": {
      "text/plain": [
       "[['indywidualni15,00 %', '22,50 %', '5,75 % 22,50 %'],\n",
       " ['towanie15,00 % \\n 13,99 %', '13,99 %', 'towanie15,00 %'],\n",
       " ['9,25 %', '9,25 % wynosi 15,00 %', '15,00 %'],\n",
       " ['22,51 %', '1 056,00 zł', '1 056,00'],\n",
       " ['22,51 %', '22,51', '1 056,00 zł']]"
      ]
     },
     "execution_count": 11,
     "metadata": {},
     "output_type": "execute_result"
    }
   ],
   "source": [
    "preds"
   ]
  },
  {
   "cell_type": "code",
   "execution_count": null,
   "metadata": {},
   "outputs": [],
   "source": []
  }
 ],
 "metadata": {
  "kernelspec": {
   "display_name": "supervision_hack",
   "language": "python",
   "name": "python3"
  },
  "language_info": {
   "codemirror_mode": {
    "name": "ipython",
    "version": 3
   },
   "file_extension": ".py",
   "mimetype": "text/x-python",
   "name": "python",
   "nbconvert_exporter": "python",
   "pygments_lexer": "ipython3",
   "version": "3.9.6"
  }
 },
 "nbformat": 4,
 "nbformat_minor": 2
}
