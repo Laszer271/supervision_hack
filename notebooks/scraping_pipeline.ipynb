{
 "cells": [
  {
   "cell_type": "code",
   "execution_count": 1,
   "metadata": {},
   "outputs": [],
   "source": [
    "import sys\n",
    "sys.path.append('../')"
   ]
  },
  {
   "cell_type": "code",
   "execution_count": 2,
   "metadata": {},
   "outputs": [
    {
     "name": "stderr",
     "output_type": "stream",
     "text": [
      "/home/laszer/.pyenv/versions/3.9.6/envs/supervision_hack/lib/python3.9/site-packages/tqdm/auto.py:21: TqdmWarning: IProgress not found. Please update jupyter and ipywidgets. See https://ipywidgets.readthedocs.io/en/stable/user_install.html\n",
      "  from .autonotebook import tqdm as notebook_tqdm\n"
     ]
    }
   ],
   "source": [
    "from scraping.pdf_handling import pdf_to_text\n",
    "from transformers import pipeline, AutoTokenizer, AutoModelForQuestionAnswering\n",
    "from scraping.text_processing import get_raw_content, remove_non_ascii, split_on_newline, TextChunker\n",
    "from scraping.semantic_search import SemanticSearch\n",
    "\n",
    "import pandas as pd"
   ]
  },
  {
   "cell_type": "code",
   "execution_count": 3,
   "metadata": {},
   "outputs": [
    {
     "data": {
      "text/html": [
       "<div>\n",
       "<style scoped>\n",
       "    .dataframe tbody tr th:only-of-type {\n",
       "        vertical-align: middle;\n",
       "    }\n",
       "\n",
       "    .dataframe tbody tr th {\n",
       "        vertical-align: top;\n",
       "    }\n",
       "\n",
       "    .dataframe thead th {\n",
       "        text-align: right;\n",
       "    }\n",
       "</style>\n",
       "<table border=\"1\" class=\"dataframe\">\n",
       "  <thead>\n",
       "    <tr style=\"text-align: right;\">\n",
       "      <th></th>\n",
       "      <th>Name</th>\n",
       "      <th>Individual</th>\n",
       "      <th>Corporation</th>\n",
       "    </tr>\n",
       "  </thead>\n",
       "  <tbody>\n",
       "    <tr>\n",
       "      <th>1.0</th>\n",
       "      <td>Powszechna Kasa Oszczędności Bank Polski SA</td>\n",
       "      <td>https://www.pkobp.pl/oplaty-i-oprocentowanie/o...</td>\n",
       "      <td>https://www.pkobp.pl/oplaty-i-oprocentowanie/o...</td>\n",
       "    </tr>\n",
       "    <tr>\n",
       "      <th>2.0</th>\n",
       "      <td>Bank Handlowy w Warszawie SA</td>\n",
       "      <td>https://www.citibank.pl/dokumenty/\\n[zakładki:...</td>\n",
       "      <td>NaN</td>\n",
       "    </tr>\n",
       "    <tr>\n",
       "      <th>3.0</th>\n",
       "      <td>ING Bank Śląski SA</td>\n",
       "      <td>https://www.ing.pl/indywidualni/tabele-i-regul...</td>\n",
       "      <td>https://www.ing.pl/male-firmy/tabele-i-regulam...</td>\n",
       "    </tr>\n",
       "  </tbody>\n",
       "</table>\n",
       "</div>"
      ],
      "text/plain": [
       "                                            Name  \\\n",
       "1.0  Powszechna Kasa Oszczędności Bank Polski SA   \n",
       "2.0                 Bank Handlowy w Warszawie SA   \n",
       "3.0                           ING Bank Śląski SA   \n",
       "\n",
       "                                            Individual  \\\n",
       "1.0  https://www.pkobp.pl/oplaty-i-oprocentowanie/o...   \n",
       "2.0  https://www.citibank.pl/dokumenty/\\n[zakładki:...   \n",
       "3.0  https://www.ing.pl/indywidualni/tabele-i-regul...   \n",
       "\n",
       "                                           Corporation  \n",
       "1.0  https://www.pkobp.pl/oplaty-i-oprocentowanie/o...  \n",
       "2.0                                                NaN  \n",
       "3.0  https://www.ing.pl/male-firmy/tabele-i-regulam...  "
      ]
     },
     "execution_count": 3,
     "metadata": {},
     "output_type": "execute_result"
    }
   ],
   "source": [
    "df_urls = pd.read_excel('../Bank_list.xlsx', index_col=0)\n",
    "df_urls.head(3)"
   ]
  },
  {
   "cell_type": "code",
   "execution_count": 4,
   "metadata": {},
   "outputs": [],
   "source": [
    "bank_name = 'Santander Consumer Bank SA'\n",
    "client_type = 'Individual'\n",
    "date = '18-11-2023'"
   ]
  },
  {
   "cell_type": "code",
   "execution_count": 5,
   "metadata": {},
   "outputs": [],
   "source": [
    "# urls"
   ]
  },
  {
   "cell_type": "code",
   "execution_count": 6,
   "metadata": {},
   "outputs": [
    {
     "name": "stdout",
     "output_type": "stream",
     "text": [
      "512\n"
     ]
    },
    {
     "name": "stderr",
     "output_type": "stream",
     "text": [
      "Some weights of the model checkpoint at henryk/bert-base-multilingual-cased-finetuned-polish-squad2 were not used when initializing BertForQuestionAnswering: ['bert.pooler.dense.bias', 'bert.pooler.dense.weight']\n",
      "- This IS expected if you are initializing BertForQuestionAnswering from the checkpoint of a model trained on another task or with another architecture (e.g. initializing a BertForSequenceClassification model from a BertForPreTraining model).\n",
      "- This IS NOT expected if you are initializing BertForQuestionAnswering from the checkpoint of a model that you expect to be exactly identical (initializing a BertForSequenceClassification model from a BertForSequenceClassification model).\n"
     ]
    }
   ],
   "source": [
    "model_name = \"henryk/bert-base-multilingual-cased-finetuned-polish-squad2\"\n",
    "tokenizer = AutoTokenizer.from_pretrained(model_name)\n",
    "print(tokenizer.model_max_length)\n",
    "\n",
    "pipe = pipeline(\"question-answering\", model=model_name)\n",
    "\n",
    "chunker = TextChunker(tokenizer=tokenizer, max_len=400, stride_len=100)"
   ]
  },
  {
   "cell_type": "code",
   "execution_count": 7,
   "metadata": {},
   "outputs": [
    {
     "name": "stdout",
     "output_type": "stream",
     "text": [
      "10\n",
      "---\n",
      "1598\n",
      "1598\n",
      "---\n",
      "2579\n",
      "2564\n",
      "---\n",
      "10904\n",
      "10804\n",
      "---\n",
      "986\n",
      "985\n",
      "---\n",
      "5682\n",
      "5671\n",
      "---\n",
      "5105\n",
      "5100\n",
      "---\n",
      "1858\n",
      "1858\n",
      "---\n",
      "2838\n",
      "2836\n",
      "---\n",
      "1190\n",
      "1190\n",
      "---\n",
      "1754\n",
      "1751\n"
     ]
    }
   ],
   "source": [
    "data = pdf_to_text(f'../bank_data/{date}/{client_type}/{bank_name}')\n",
    "print(len(data))\n",
    "for file, text in data.items():\n",
    "    print('---')\n",
    "    print(len(text))\n",
    "    text = remove_non_ascii(text)\n",
    "    print(len(text))\n",
    "\n",
    "    splitted = split_on_newline(text)\n",
    "    data[file] = splitted"
   ]
  },
  {
   "cell_type": "code",
   "execution_count": 9,
   "metadata": {},
   "outputs": [
    {
     "name": "stdout",
     "output_type": "stream",
     "text": [
      "---\n",
      "4564\n",
      "4563\n",
      "---\n",
      "14624\n",
      "14589\n"
     ]
    }
   ],
   "source": [
    "urls = df_urls.loc[df_urls['Name'] == bank_name, 'Individual'].dropna().tolist()\n",
    "for url in urls:\n",
    "    print('---')\n",
    "    soup = get_raw_content(url)\n",
    "    print(len(soup))\n",
    "    soup = remove_non_ascii(soup)\n",
    "    print(len(soup))\n",
    "\n",
    "    splitted = split_on_newline(soup)\n",
    "    data[url] = splitted\n"
   ]
  },
  {
   "cell_type": "code",
   "execution_count": 10,
   "metadata": {},
   "outputs": [
    {
     "name": "stdout",
     "output_type": "stream",
     "text": [
      "---\n",
      "spozycja_wyplaty.pdf 32 2\n",
      "---\n",
      "c_zdjecie_dowodu.pdf 30 5\n",
      "---\n",
      "g.o_w.2.0_online.pdf 117 27\n",
      "---\n",
      "eraktywny_201118.pdf 26 1\n",
      "---\n",
      "_o_lokate_online.pdf 83 15\n",
      "---\n",
      "a_lokaty_on-line.pdf 52 10\n",
      "---\n",
      "okat_terminowych.pdf 71 5\n",
      "---\n",
      "o.d_odst_a_w.8.0.pdf 24 9\n",
      "---\n",
      "ywarka_depozytow.pdf 45 1\n",
      "---\n",
      "ych_interaktywny.pdf 39 3\n",
      "---\n",
      "czednosciowy,1.html\n",
      " 101 8\n",
      "---\n",
      "rzez-internet,2.html 287 30\n"
     ]
    }
   ],
   "source": [
    "all_chunks = []\n",
    "\n",
    "for file, splitted in data.items(): \n",
    "    print('---')\n",
    "    chunks = chunker.split_text(splitted)\n",
    "    all_chunks.extend(chunks)\n",
    "\n",
    "    print(file[-20:], len(splitted), len(chunks))"
   ]
  },
  {
   "cell_type": "code",
   "execution_count": 11,
   "metadata": {},
   "outputs": [
    {
     "data": {
      "text/plain": [
       "116"
      ]
     },
     "execution_count": 11,
     "metadata": {},
     "output_type": "execute_result"
    }
   ],
   "source": [
    "len(all_chunks)"
   ]
  },
  {
   "cell_type": "code",
   "execution_count": 12,
   "metadata": {},
   "outputs": [
    {
     "name": "stdout",
     "output_type": "stream",
     "text": [
      "5\n"
     ]
    }
   ],
   "source": [
    "semantic_search = SemanticSearch()\n",
    "\n",
    "semantic_search.vectorize_text(strings=all_chunks)\n",
    "result = semantic_search.search(\"wysokość oprocentowania promocyjnego na lokacie w %\", k=5)\n",
    "print(len(result))\n",
    "\n",
    "best_contexts = [r[0].page_content for r in result]\n",
    "\n",
    "question = \"Jaka jest wysokość oprocentowania promocyjnego na lokacie?\"\n",
    "# question = 'Do kogo jest skierowana oferta?'\n",
    "\n",
    "preds = []\n",
    "for context in best_contexts:\n",
    "    # generate 3 answers to the question\n",
    "    pred = pipe(question=question, context=context, do_sample=False, top_k=3)\n",
    "\n",
    "    pred = [p['answer'] for p in pred]\n",
    "    preds.append(pred)"
   ]
  },
  {
   "cell_type": "code",
   "execution_count": 13,
   "metadata": {},
   "outputs": [
    {
     "data": {
      "text/plain": [
       "[['w stosunku rocznym', '0 %', '0 % w stosunku rocznym'],\n",
       " ['1 000 - 400 000 PLN \\n 1 mies',\n",
       "  '1 000 - 400 000',\n",
       "  '1 000 - 400 000 PLN \\n 1 mies. \\n 2. 00 %'],\n",
       " ['5,00 %', '5,00 % na 6 miesięcy', '5,00 % na 6'],\n",
       " ['0 %',\n",
       "  '0 % w stosunku rocznym',\n",
       "  '1 000 - 400 000 PLN \\n 1 mies. \\n 1. 00 %'],\n",
       " ['0 %', '0 % w stosunku rocznym', '0 % w stosunku rocznym.']]"
      ]
     },
     "execution_count": 13,
     "metadata": {},
     "output_type": "execute_result"
    }
   ],
   "source": [
    "preds"
   ]
  },
  {
   "cell_type": "code",
   "execution_count": 14,
   "metadata": {},
   "outputs": [
    {
     "data": {
      "text/plain": [
       "[{'score': 0.22213014960289001,\n",
       "  'start': 74561,\n",
       "  'end': 74569,\n",
       "  'answer': '4,6150 %'},\n",
       " {'score': 0.18798911571502686,\n",
       "  'start': 73894,\n",
       "  'end': 73902,\n",
       "  'answer': '4,6150 %'},\n",
       " {'score': 0.06678435206413269,\n",
       "  'start': 78375,\n",
       "  'end': 78394,\n",
       "  'answer': '520. 000. 000,00 zł'}]"
      ]
     },
     "execution_count": 14,
     "metadata": {},
     "output_type": "execute_result"
    }
   ],
   "source": [
    "pipe(question=question, context='\\n'.join(all_chunks), do_sample=False, top_k=3)"
   ]
  },
  {
   "cell_type": "code",
   "execution_count": null,
   "metadata": {},
   "outputs": [],
   "source": []
  }
 ],
 "metadata": {
  "kernelspec": {
   "display_name": "supervision_hack",
   "language": "python",
   "name": "python3"
  },
  "language_info": {
   "codemirror_mode": {
    "name": "ipython",
    "version": 3
   },
   "file_extension": ".py",
   "mimetype": "text/x-python",
   "name": "python",
   "nbconvert_exporter": "python",
   "pygments_lexer": "ipython3",
   "version": "3.9.6"
  }
 },
 "nbformat": 4,
 "nbformat_minor": 2
}
