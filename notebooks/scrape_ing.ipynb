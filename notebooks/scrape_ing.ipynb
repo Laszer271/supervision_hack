{
 "cells": [
  {
   "cell_type": "code",
   "execution_count": 8,
   "metadata": {},
   "outputs": [],
   "source": [
    "import requests\n",
    "from bs4 import BeautifulSoup"
   ]
  },
  {
   "cell_type": "code",
   "execution_count": 9,
   "metadata": {},
   "outputs": [],
   "source": [
    "url = 'https://www.ing.pl/lp/bonus-na-start?utm_source=google&utm_medium=cpc&utm_campaign=konto_oszczednosciowe&utm_content=google_ads_search&utm_term=brand&gad_source=1&gclid=Cj0KCQiA3uGqBhDdARIsAFeJ5r3_OqvB7AtVKMrllVb-h18sTshxrk579B94Vhg-CBtySe9dgPATzVoaAtvwEALw_wcB&gclsrc=aw.ds'"
   ]
  },
  {
   "cell_type": "code",
   "execution_count": 10,
   "metadata": {},
   "outputs": [],
   "source": [
    "url = 'https://www.bankier.pl/smart/lokaty'"
   ]
  },
  {
   "cell_type": "code",
   "execution_count": 11,
   "metadata": {},
   "outputs": [
    {
     "data": {
      "text/plain": [
       "'utf-8'"
      ]
     },
     "execution_count": 11,
     "metadata": {},
     "output_type": "execute_result"
    }
   ],
   "source": [
    "response = requests.get(url, )\n",
    "response.encoding"
   ]
  },
  {
   "cell_type": "code",
   "execution_count": 12,
   "metadata": {},
   "outputs": [],
   "source": [
    "response.encoding = 'utf-8' # for polish characters to work"
   ]
  },
  {
   "cell_type": "code",
   "execution_count": 13,
   "metadata": {},
   "outputs": [],
   "source": [
    "soup = BeautifulSoup(response.text, 'lxml', )"
   ]
  },
  {
   "cell_type": "code",
   "execution_count": 36,
   "metadata": {},
   "outputs": [],
   "source": [
    "s = soup.find('div', {'class': 'placeholder-results'}).find_all('div', {'class': 'pane__footer'})\n",
    "items = [x.find('a', {'data-event': 'open-details'}) for x in s]"
   ]
  },
  {
   "cell_type": "code",
   "execution_count": 47,
   "metadata": {},
   "outputs": [
    {
     "data": {
      "text/plain": [
       "'window.Deposit.openDetailsModal({\\n                logo: {\"original\": {\"mimetype\": \"image/png\", \"url\": \"https://galeria.bankier.pl/p/1/b/2aa8bf9b11adba.png\"}, \"webp\": {\"mimetype\": \"image/webp\", \"url\": \"https://galeria.bankier.pl/p/1/b/2aa8bf9b11adba.webp\"}},\\n                name: `Lokata na Start`,\\n                bank_name: `Inbank`,\\n                ecommerceLink: `https://www.bankier.pl/e/lead/1692/label=PPF/?source=wpkd`,\\n                link: `/smart/d/lokata-na-start-917`,\\n                id: `3600`,\\n                period: `3`,\\n                period_type: `m`,\\n                interest_rate: `6.75`,\\n                interest: `137.61`,\\n                sum: `10137.61`,\\n                form_stats: `1271`,\\n                capitalization: `3M`,\\n                currency: `PLN`,\\n                amount_min: `1000`,\\n                amount_max: `50000`,\\n                additional_conditions: `\\t<p>Lokata dla nowych klientów banku.</p>`\\n                \\n                \\n            })'"
      ]
     },
     "execution_count": 47,
     "metadata": {},
     "output_type": "execute_result"
    }
   ],
   "source": [
    "items[0]['onclick']"
   ]
  },
  {
   "cell_type": "code",
   "execution_count": 6,
   "metadata": {},
   "outputs": [
    {
     "data": {
      "text/plain": [
       "'\\n5,5%\\xa0na Otwartym Koncie Oszczędnościowym w PLN2 dla kwot poniżej 200\\xa0tys.\\xa0zł przez 3 m-ce od założenia konta\\n'"
      ]
     },
     "execution_count": 6,
     "metadata": {},
     "output_type": "execute_result"
    }
   ],
   "source": [
    "info = soup.find('div', {'class': 'swipeable_tiles_list__elementDescription'})\n",
    "info.text"
   ]
  },
  {
   "cell_type": "code",
   "execution_count": 7,
   "metadata": {},
   "outputs": [
    {
     "data": {
      "text/plain": [
       "'Otwartym Koncie Oszczędnościowym w PLN<sup>2</sup><br> dla kwot poniżej 200&nbsp;tys.&nbsp;zł przez '"
      ]
     },
     "execution_count": 7,
     "metadata": {},
     "output_type": "execute_result"
    }
   ],
   "source": [
    "idx = response.text.find('Otwartym Koncie Osz')\n",
    "response.text[idx: idx+100]"
   ]
  },
  {
   "cell_type": "code",
   "execution_count": null,
   "metadata": {},
   "outputs": [],
   "source": []
  }
 ],
 "metadata": {
  "kernelspec": {
   "display_name": "supervision_hack",
   "language": "python",
   "name": "python3"
  },
  "language_info": {
   "codemirror_mode": {
    "name": "ipython",
    "version": 3
   },
   "file_extension": ".py",
   "mimetype": "text/x-python",
   "name": "python",
   "nbconvert_exporter": "python",
   "pygments_lexer": "ipython3",
   "version": "3.9.6"
  }
 },
 "nbformat": 4,
 "nbformat_minor": 2
}
