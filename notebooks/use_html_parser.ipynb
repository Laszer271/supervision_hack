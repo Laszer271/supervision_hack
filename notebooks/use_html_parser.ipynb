{
 "cells": [
  {
   "cell_type": "code",
   "execution_count": 1,
   "metadata": {},
   "outputs": [],
   "source": [
    "import sys\n",
    "sys.path.append('..')"
   ]
  },
  {
   "cell_type": "code",
   "execution_count": 2,
   "metadata": {},
   "outputs": [],
   "source": [
    "from scraping.html_parser import HTMLBankParser"
   ]
  },
  {
   "cell_type": "code",
   "execution_count": 6,
   "metadata": {},
   "outputs": [],
   "source": [
    "url = 'https://www.ing.pl/indywidualni/tabele-i-regulaminy/oprocentowanie/rachunki-oszczednosciowe-lokaty'\n",
    "parser = HTMLBankParser(url)\n",
    "lokata_data, oszczed_data, lokata_table, oszczed_table, lokata_links, oszczed_links = parser.get_outputs()"
   ]
  },
  {
   "cell_type": "code",
   "execution_count": 7,
   "metadata": {},
   "outputs": [
    {
     "data": {
      "text/plain": [
       "['Lokaty terminowe w PLN\\n\\n\\n\\n\\nLokata terminowa\\xa0\\n\\xa0\\n\\n\\n3\\xa0miesiące\\nod 1000\\xa0zł\\n1,50%\\n\\n\\n6\\xa0miesięcy\\nod 1000\\xa0zł\\n2,00%\\n\\n\\n12 miesięcy\\nod 1000\\xa0zł\\n2,50%\\n\\n\\nLokata terminowa Plus\\xa0\\n\\xa0\\n\\n\\n6\\xa0miesięcy\\nod 1000\\xa0zł do 50 000 zł\\n4,75%\\n\\n\\n12 miesięcy\\nod 1000\\xa0zł do 100 000 zł\\n5,00%\\n\\n\\nLokata w\\xa0ramach Lokaty z\\xa0Funduszem\\n\\xa0\\n\\n\\nLokata terminowa 3M\\n\\xa0\\n8,25%\\n\\n\\nLokata terminowa 3M Premium\\n\\xa0\\n8,75%\\n\\n\\n\\xa0\\n\\xa0\\n\\n\\nOprocentowanie środków wypłacanych przed upływem okresu umownego\\n\\xa00,00%\\n\\n\\n\\n Podane oprocentowanie jest stałe, obliczane w\\xa0skali roku',\n",
       " 'Lokaty terminowe w EUR\\n\\n\\n\\n\\nLokata terminowa\\xa0\\n\\xa0\\n\\n\\n12 miesięcy\\nod 500 euro\\n0,01%\\n\\n\\n\\n Podane oprocentowanie jest stałe, obliczane w\\xa0skali roku',\n",
       " 'Lokaty terminowe w USD\\n\\n\\n\\n\\nLokata terminowa\\xa0\\n\\xa0\\n\\n\\n12 miesięcy\\nod 500\\xa0dolarów\\n0,01%\\n\\n\\n\\n Podane oprocentowanie jest stałe, obliczane w\\xa0skali roku']"
      ]
     },
     "execution_count": 7,
     "metadata": {},
     "output_type": "execute_result"
    }
   ],
   "source": [
    "lokata_data"
   ]
  },
  {
   "cell_type": "code",
   "execution_count": 8,
   "metadata": {},
   "outputs": [
    {
     "data": {
      "text/plain": [
       "['Konta oszczędnościowe w PLN\\n\\n\\n\\n\\n Otwarte Konto Oszczędnościowe w\\xa0PLN \\n\\xa0\\n\\n\\nOprocentowanie w ramach oferty „Bonus na Start” dla kwot poniżej 200 tys. zł\\n5,50%\\n\\n\\nOprocentowanie w ramach oferty „Bonus na Start” dla kwot od 200 tys. zł\\n1,50%\\n\\n\\nOprocentowanie standardowe\\n\\xa0\\n1,50%\\n\\n\\n Otwarte Konto Oszczędnościowe Bonus w\\xa0PLN \\n\\xa0\\n\\n\\nOprocentowanie dla kwot do 200 tys. zł\\n5,50%\\n\\n\\nOprocentowanie dla kwot powyżej 200 tys. zł\\n1,50%\\n\\n\\n Otwarte Konto Oszczędnościowe Premium w\\xa0PLN \\n\\xa0\\n\\n\\nponiżej 100\\xa0000\\xa0zł\\n\\xa0\\n1,50%\\n\\n\\nod 100\\xa0000 do 199\\xa0999,99\\xa0zł\\n\\xa0\\n1,50%\\n\\n\\nod 200\\xa0000 do 499\\xa0999,99\\xa0zł\\n\\xa0\\n1,50%\\n\\n\\nod 500\\xa0000\\xa0zł do 999\\xa0999,99\\xa0zł\\n\\xa0\\n1,50%\\n\\n\\nod 1\\xa0000\\xa0000\\xa0zł\\n\\xa0\\n1,50%\\n\\n\\n Indywidualne Konto Zabezpieczenia Emerytalnego \\n4,00%\\n\\n\\n Smart Saver \\n\\xa0\\n\\n\\ndo 5\\xa0000\\xa0zł\\n\\xa0\\n5,00%\\n\\n\\npowyżej 5\\xa0000\\xa0zł\\n\\xa0\\n1,50%\\n\\n\\n\\n\\xa0\\nPodane oprocentowanie jest zmienne, obliczane w\\xa0skali roku.',\n",
       " 'Konta oszczędnościowe w walutach obcych\\n\\n\\n\\n\\nOtwarte Konto Oszczędnościowe\\xa0\\n\\n\\nOtwarte Konto Oszczędnościowe w\\xa0EUR\\n\\xa0\\n0,01%\\n\\n\\nOtwarte Konto Oszczędnościowe w\\xa0USD\\n\\xa0\\n0,01%\\n\\n\\nOtwarte Konto Oszczędnościowe w\\xa0GBP\\n\\xa0\\n0,01%\\n\\n\\nOtwarte Konto Oszczędnościowe Premium w\\xa0EUR\\n\\xa0\\n\\n\\nponiżej 25\\xa0000\\xa0EUR\\n\\xa0\\n0,01%\\n\\n\\nod 25\\xa0000\\xa0EUR\\n\\xa0\\n0,01%\\n\\n\\n\\n Podane oprocentowanie jest zmienne, obliczane w skali roku']"
      ]
     },
     "execution_count": 8,
     "metadata": {},
     "output_type": "execute_result"
    }
   ],
   "source": [
    "oszczed_data"
   ]
  },
  {
   "cell_type": "code",
   "execution_count": 9,
   "metadata": {},
   "outputs": [
    {
     "data": {
      "text/plain": [
       "['Otwarte Konto Oszczędnościowe w\\xa0PLN \\n\\xa0\\n\\n\\nOprocentowanie w ramach oferty „Bonus na Start” dla kwot poniżej 200 tys. zł\\n5,50%\\n\\n\\nOprocentowanie w ramach oferty „Bonus na Start” dla kwot od 200 tys. zł\\n1,50%\\n\\n\\nOprocentowanie standardowe\\n\\xa0\\n1,50%\\n\\n\\n Otwarte Konto Oszczędnościowe Bonus w\\xa0PLN \\n\\xa0\\n\\n\\nOprocentowanie dla kwot do 200 tys. zł\\n5,50%\\n\\n\\nOprocentowanie dla kwot powyżej 200 tys. zł\\n1,50%\\n\\n\\n Otwarte Konto Oszczędnościowe Premium w\\xa0PLN \\n\\xa0\\n\\n\\nponiżej 100\\xa0000\\xa0zł\\n\\xa0\\n1,50%\\n\\n\\nod 100\\xa0000 do 199\\xa0999,99\\xa0zł\\n\\xa0\\n1,50%\\n\\n\\nod 200\\xa0000 do 499\\xa0999,99\\xa0zł\\n\\xa0\\n1,50%\\n\\n\\nod 500\\xa0000\\xa0zł do 999\\xa0999,99\\xa0zł\\n\\xa0\\n1,50%\\n\\n\\nod 1\\xa0000\\xa0000\\xa0zł\\n\\xa0\\n1,50%\\n\\n\\n Indywidualne Konto Zabezpieczenia Emerytalnego \\n4,00%\\n\\n\\n Smart Saver \\n\\xa0\\n\\n\\ndo 5\\xa0000\\xa0zł\\n\\xa0\\n5,00%\\n\\n\\npowyżej 5\\xa0000\\xa0zł\\n\\xa0\\n1,50%',\n",
       " 'Lokata terminowa\\xa0\\n\\xa0\\n\\n\\n3\\xa0miesiące\\nod 1000\\xa0zł\\n1,50%\\n\\n\\n6\\xa0miesięcy\\nod 1000\\xa0zł\\n2,00%\\n\\n\\n12 miesięcy\\nod 1000\\xa0zł\\n2,50%\\n\\n\\nLokata terminowa Plus\\xa0\\n\\xa0\\n\\n\\n6\\xa0miesięcy\\nod 1000\\xa0zł do 50 000 zł\\n4,75%\\n\\n\\n12 miesięcy\\nod 1000\\xa0zł do 100 000 zł\\n5,00%\\n\\n\\nLokata w\\xa0ramach Lokaty z\\xa0Funduszem\\n\\xa0\\n\\n\\nLokata terminowa 3M\\n\\xa0\\n8,25%\\n\\n\\nLokata terminowa 3M Premium\\n\\xa0\\n8,75%\\n\\n\\n\\xa0\\n\\xa0\\n\\n\\nOprocentowanie środków wypłacanych przed upływem okresu umownego\\n\\xa00,00%',\n",
       " 'Lokata terminowa\\xa0\\n\\xa0\\n\\n\\n12 miesięcy\\nod 500 euro\\n0,01%',\n",
       " 'Lokata terminowa\\xa0\\n\\xa0\\n\\n\\n12 miesięcy\\nod 500\\xa0dolarów\\n0,01%',\n",
       " 'Otwarte Konto Oszczędnościowe\\xa0\\n\\n\\nOtwarte Konto Oszczędnościowe w\\xa0EUR\\n\\xa0\\n0,01%\\n\\n\\nOtwarte Konto Oszczędnościowe w\\xa0USD\\n\\xa0\\n0,01%\\n\\n\\nOtwarte Konto Oszczędnościowe w\\xa0GBP\\n\\xa0\\n0,01%\\n\\n\\nOtwarte Konto Oszczędnościowe Premium w\\xa0EUR\\n\\xa0\\n\\n\\nponiżej 25\\xa0000\\xa0EUR\\n\\xa0\\n0,01%\\n\\n\\nod 25\\xa0000\\xa0EUR\\n\\xa0\\n0,01%']"
      ]
     },
     "execution_count": 9,
     "metadata": {},
     "output_type": "execute_result"
    }
   ],
   "source": [
    "lokata_table"
   ]
  },
  {
   "cell_type": "code",
   "execution_count": 10,
   "metadata": {},
   "outputs": [
    {
     "data": {
      "text/plain": [
       "['Otwarte Konto Oszczędnościowe w\\xa0PLN \\n\\xa0\\n\\n\\nOprocentowanie w ramach oferty „Bonus na Start” dla kwot poniżej 200 tys. zł\\n5,50%\\n\\n\\nOprocentowanie w ramach oferty „Bonus na Start” dla kwot od 200 tys. zł\\n1,50%\\n\\n\\nOprocentowanie standardowe\\n\\xa0\\n1,50%\\n\\n\\n Otwarte Konto Oszczędnościowe Bonus w\\xa0PLN \\n\\xa0\\n\\n\\nOprocentowanie dla kwot do 200 tys. zł\\n5,50%\\n\\n\\nOprocentowanie dla kwot powyżej 200 tys. zł\\n1,50%\\n\\n\\n Otwarte Konto Oszczędnościowe Premium w\\xa0PLN \\n\\xa0\\n\\n\\nponiżej 100\\xa0000\\xa0zł\\n\\xa0\\n1,50%\\n\\n\\nod 100\\xa0000 do 199\\xa0999,99\\xa0zł\\n\\xa0\\n1,50%\\n\\n\\nod 200\\xa0000 do 499\\xa0999,99\\xa0zł\\n\\xa0\\n1,50%\\n\\n\\nod 500\\xa0000\\xa0zł do 999\\xa0999,99\\xa0zł\\n\\xa0\\n1,50%\\n\\n\\nod 1\\xa0000\\xa0000\\xa0zł\\n\\xa0\\n1,50%\\n\\n\\n Indywidualne Konto Zabezpieczenia Emerytalnego \\n4,00%\\n\\n\\n Smart Saver \\n\\xa0\\n\\n\\ndo 5\\xa0000\\xa0zł\\n\\xa0\\n5,00%\\n\\n\\npowyżej 5\\xa0000\\xa0zł\\n\\xa0\\n1,50%',\n",
       " 'Lokata terminowa\\xa0\\n\\xa0\\n\\n\\n3\\xa0miesiące\\nod 1000\\xa0zł\\n1,50%\\n\\n\\n6\\xa0miesięcy\\nod 1000\\xa0zł\\n2,00%\\n\\n\\n12 miesięcy\\nod 1000\\xa0zł\\n2,50%\\n\\n\\nLokata terminowa Plus\\xa0\\n\\xa0\\n\\n\\n6\\xa0miesięcy\\nod 1000\\xa0zł do 50 000 zł\\n4,75%\\n\\n\\n12 miesięcy\\nod 1000\\xa0zł do 100 000 zł\\n5,00%\\n\\n\\nLokata w\\xa0ramach Lokaty z\\xa0Funduszem\\n\\xa0\\n\\n\\nLokata terminowa 3M\\n\\xa0\\n8,25%\\n\\n\\nLokata terminowa 3M Premium\\n\\xa0\\n8,75%\\n\\n\\n\\xa0\\n\\xa0\\n\\n\\nOprocentowanie środków wypłacanych przed upływem okresu umownego\\n\\xa00,00%',\n",
       " 'Lokata terminowa\\xa0\\n\\xa0\\n\\n\\n12 miesięcy\\nod 500 euro\\n0,01%',\n",
       " 'Lokata terminowa\\xa0\\n\\xa0\\n\\n\\n12 miesięcy\\nod 500\\xa0dolarów\\n0,01%',\n",
       " 'Otwarte Konto Oszczędnościowe\\xa0\\n\\n\\nOtwarte Konto Oszczędnościowe w\\xa0EUR\\n\\xa0\\n0,01%\\n\\n\\nOtwarte Konto Oszczędnościowe w\\xa0USD\\n\\xa0\\n0,01%\\n\\n\\nOtwarte Konto Oszczędnościowe w\\xa0GBP\\n\\xa0\\n0,01%\\n\\n\\nOtwarte Konto Oszczędnościowe Premium w\\xa0EUR\\n\\xa0\\n\\n\\nponiżej 25\\xa0000\\xa0EUR\\n\\xa0\\n0,01%\\n\\n\\nod 25\\xa0000\\xa0EUR\\n\\xa0\\n0,01%']"
      ]
     },
     "execution_count": 10,
     "metadata": {},
     "output_type": "execute_result"
    }
   ],
   "source": [
    "oszczed_table"
   ]
  },
  {
   "cell_type": "code",
   "execution_count": 11,
   "metadata": {},
   "outputs": [
    {
     "data": {
      "text/plain": [
       "[{'text': ' Lokata Terminowa ',\n",
       "  'href': '/indywidualni/inwestycje-i-oszczednosci/lokata-terminowa'},\n",
       " {'text': ' Lokata z funduszem ',\n",
       "  'href': '/indywidualni/inwestycje-i-oszczednosci/lokata-z-funduszem'},\n",
       " {'text': 'Konta oszczędnościowe i\\xa0lokaty terminowe',\n",
       "  'href': '/indywidualni/tabele-i-regulaminy/oprocentowanie/rachunki-oszczednosciowe-lokaty'},\n",
       " {'text': 'Lokata terminowa\\xa0',\n",
       "  'href': '/indywidualni/inwestycje-i-oszczednosci/lokata-terminowa'},\n",
       " {'text': 'Lokata terminowa Plus\\xa0',\n",
       "  'href': '/indywidualni/inwestycje-i-oszczednosci/lokata-terminowa'},\n",
       " {'text': 'Lokata w\\xa0ramach Lokaty z\\xa0Funduszem',\n",
       "  'href': '/indywidualni/inwestycje-i-oszczednosci/lokata-z-funduszem'},\n",
       " {'text': 'Lokata terminowa\\xa0',\n",
       "  'href': '/indywidualni/inwestycje-i-oszczednosci/lokata-terminowa'},\n",
       " {'text': 'Lokata terminowa\\xa0',\n",
       "  'href': '/indywidualni/inwestycje-i-oszczednosci/lokata-terminowa'}]"
      ]
     },
     "execution_count": 11,
     "metadata": {},
     "output_type": "execute_result"
    }
   ],
   "source": [
    "lokata_links"
   ]
  },
  {
   "cell_type": "code",
   "execution_count": 12,
   "metadata": {},
   "outputs": [
    {
     "data": {
      "text/plain": [
       "[{'text': '  Inwestycje i oszczędności  ',\n",
       "  'href': '/indywidualni/inwestycje-i-oszczednosci'},\n",
       " {'text': '  Otwarte Konto Oszczędnościowe (OKO)  ',\n",
       "  'href': '/indywidualni/inwestycje-i-oszczednosci/konto-oszczednosciowe'},\n",
       " {'text': '  Otwarte Konto Oszczędnościowe dla dziecka  ',\n",
       "  'href': '/indywidualni/inwestycje-i-oszczednosci/otwarte-konto-oszczednosciowe-dla-dziecka'},\n",
       " {'text': '  Cele oszczędnościowe  ',\n",
       "  'href': '/indywidualni/inwestycje-i-oszczednosci/cele-oszczednosciowe'},\n",
       " {'text': '  Inwestycje i oszczędności  ',\n",
       "  'href': '/indywidualni/inwestycje-i-oszczednosci'},\n",
       " {'text': 'Otwarte Konto Oszczędnościowe w\\xa0PLN',\n",
       "  'href': '/indywidualni/inwestycje-i-oszczednosci/konto-oszczednosciowe'},\n",
       " {'text': 'Otwarte Konto Oszczędnościowe Bonus w\\xa0PLN',\n",
       "  'href': '/indywidualni/inwestycje-i-oszczednosci/otwarte-konto-oszczednosciowe-bonus'},\n",
       " {'text': 'Otwarte Konto Oszczędnościowe Premium w\\xa0PLN',\n",
       "  'href': '/premium/inwestycje-i-oszczednosci/otwarte-konto-oszczednosciowe-premium'},\n",
       " {'text': 'Otwarte Konto Oszczędnościowe\\xa0',\n",
       "  'href': '/indywidualni/oszczednosci/konto-oszczednosciowe'},\n",
       " {'text': 'Otwarte Konto Oszczędnościowe Premium w\\xa0EUR',\n",
       "  'href': '/indywidualni/oszczednosci/konta-oszczednosciowe/otwarte-konto-oszczednosciowe-premium'}]"
      ]
     },
     "execution_count": 12,
     "metadata": {},
     "output_type": "execute_result"
    }
   ],
   "source": [
    "oszczed_links"
   ]
  },
  {
   "cell_type": "code",
   "execution_count": null,
   "metadata": {},
   "outputs": [],
   "source": []
  }
 ],
 "metadata": {
  "kernelspec": {
   "display_name": "supervision_hack",
   "language": "python",
   "name": "python3"
  },
  "language_info": {
   "codemirror_mode": {
    "name": "ipython",
    "version": 3
   },
   "file_extension": ".py",
   "mimetype": "text/x-python",
   "name": "python",
   "nbconvert_exporter": "python",
   "pygments_lexer": "ipython3",
   "version": "3.9.6"
  }
 },
 "nbformat": 4,
 "nbformat_minor": 2
}
